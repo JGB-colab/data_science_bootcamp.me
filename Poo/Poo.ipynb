{
 "cells": [
  {
   "cell_type": "code",
   "execution_count": 19,
   "metadata": {},
   "outputs": [],
   "source": [
    "# Classes e objetos\n",
    "# Cor, modelo, ano e valor;(características)\n",
    "# Uma bicibleta tem buzinar, parar e correr(Comportamentos)\n",
    "\n",
    "class Bicicleta:\n",
    "    def __init__(self,cor,modelo,ano,valor):\n",
    "        self.cor = cor\n",
    "        self.modelo = modelo\n",
    "        self.ano = ano\n",
    "        self.valor = valor\n",
    "    \n",
    "    def buzinar(self):\n",
    "        print(\"Plim plim\")\n",
    "    \n",
    "    def parar(self):\n",
    "        print(\"Freiando\")\n",
    "        print(\"Parou!\")\n",
    "    \n",
    "    def trocar_marcha(self,n_marcha):\n",
    "        print('...')\n",
    "    def correr(self):\n",
    "        print(\"Vrummm\")\n",
    "    # def __str__(self):\n",
    "      #  return f\"Bicicleta :{self.cor}\"\n",
    "    \n",
    "    def __str__(self):\n",
    "        return f\"{self.__class__.__name__}: {','.join([f'{chave}={valor}'for chave,valor in self.__dict__.items()])}\"\n",
    "caloi = Bicicleta('Vermelha','Caloi',2022,600)"
   ]
  },
  {
   "cell_type": "code",
   "execution_count": 20,
   "metadata": {},
   "outputs": [
    {
     "name": "stdout",
     "output_type": "stream",
     "text": [
      "Bicicleta: cor=Vermelha,modelo=Caloi,ano=2022,valor=600\n"
     ]
    }
   ],
   "source": [
    "print(caloi)"
   ]
  },
  {
   "cell_type": "markdown",
   "metadata": {},
   "source": [
    "# Herança"
   ]
  },
  {
   "cell_type": "code",
   "execution_count": 16,
   "metadata": {},
   "outputs": [
    {
     "name": "stdout",
     "output_type": "stream",
     "text": [
      "ligando motor\n",
      "ligando motor\n",
      "ligando motor\n",
      "Sim\n",
      "vermelho\n"
     ]
    }
   ],
   "source": [
    "# Herança Simples\n",
    "class Veiculo:\n",
    "    def __init__(self,cor,placa,numero_rodas):\n",
    "        self.cor = cor\n",
    "        self.placa = placa\n",
    "        self.numero_rodas = numero_rodas\n",
    "    def ligar_motor(self):\n",
    "        print('ligando motor')\n",
    "    def __str__(self):\n",
    "        return self.cor\n",
    "    \n",
    "class Motocicleta(Veiculo):\n",
    "    pass\n",
    "\n",
    "class Carro(Veiculo):\n",
    "    pass\n",
    "\n",
    "class Caminhao(Veiculo):\n",
    "    def __init__(self,cor,placa,numero_rodas,carregado):\n",
    "        super().__init__(cor,placa,numero_rodas) # usamos quando se sobrescreve\n",
    "         # a implementação,para poder continuar usando o comportamento\n",
    "        self.carregado = carregado # Vocẽ sobrescreve uma implementação\n",
    "\n",
    "\n",
    "\n",
    "    def estar_carregado(self):\n",
    "        print(f\"{'Sim' if self.carregado else 'Não'}\")\n",
    "\n",
    "moto  = Motocicleta('preta','adc-2133',2)\n",
    "moto.ligar_motor()\n",
    "\n",
    "carro = Carro('branco','xbe-32131',4)\n",
    "carro.ligar_motor()\n",
    "\n",
    "caminhao = Caminhao('vermelho','gta - 2321',8,True)\n",
    "caminhao.ligar_motor()\n",
    "caminhao.estar_carregado()\n",
    "print(caminhao)"
   ]
  },
  {
   "cell_type": "code",
   "execution_count": 21,
   "metadata": {},
   "outputs": [
    {
     "name": "stdout",
     "output_type": "stream",
     "text": [
      "Ornitorrinco: cor_pelo=laranja,patas=4\n"
     ]
    }
   ],
   "source": [
    "# Herança múltipla\n",
    "class Animal():\n",
    "    def __init__(self,patas):\n",
    "        self.patas = patas\n",
    "    def __str__(self):\n",
    "        return f\"{self.__class__.__name__}: {','.join([f'{chave}={valor}'for chave,valor in self.__dict__.items()])}\"\n",
    "class Mamifero(Animal):\n",
    "    def __init__(self,cor_pelo,**kw):\n",
    "        self.cor_pelo = cor_pelo\n",
    "        super().__init__(**kw)\n",
    "class Ave(Animal):\n",
    "    def __init__(self,cor_bico,**kw):\n",
    "        super().__init__(**kw)\n",
    " \n",
    "class Ornitorrinco(Mamifero, Ave):\n",
    "    def __init__(self,cor_bico,cor_pelo,patas):\n",
    "        super().__init__(cor_pelo=cor_pelo,\n",
    "        cor_bico= cor_bico,patas = patas)\n",
    "orn = Ornitorrinco(patas = 4,cor_bico= 'marrom',cor_pelo='laranja')\n",
    "print(orn)"
   ]
  },
  {
   "cell_type": "markdown",
   "metadata": {},
   "source": [
    "# Encapsulamento"
   ]
  },
  {
   "cell_type": "code",
   "execution_count": 10,
   "metadata": {},
   "outputs": [
    {
     "name": "stdout",
     "output_type": "stream",
     "text": [
      "121021\n",
      "200\n"
     ]
    }
   ],
   "source": [
    "class Conta:\n",
    "    def __init__(self, num,saldo=0):\n",
    "        self._saldo =saldo\n",
    "        self.num = num\n",
    "    def depositar(self,valor):\n",
    "        self._saldo +=valor\n",
    "    def sacar(self,valor):\n",
    "        self._saldo-=valor\n",
    "    def mostrar_saldo(self):\n",
    "        return self._saldo\n",
    "\n",
    "conta = Conta('121021',100)\n",
    "conta.depositar(100)\n",
    "print(conta.num)\n",
    "print(conta.mostrar_saldo())"
   ]
  },
  {
   "cell_type": "code",
   "execution_count": 10,
   "metadata": {},
   "outputs": [
    {
     "name": "stdout",
     "output_type": "stream",
     "text": [
      "10\n",
      "20\n",
      "-1\n"
     ]
    }
   ],
   "source": [
    "# Propriedades\n",
    "# Usando um decorador\n",
    "class Foo:\n",
    "    def __init__(self,x = None):\n",
    "        self._x =x\n",
    "    \n",
    "    @property # Eu quero acessar como sintaxe de atributo\n",
    "    def x(self):\n",
    "        return self._x or 0\n",
    "    @x.setter # parar fazer atribuição a propriedade\n",
    "    def x(self,value):\n",
    "        self._x += value\n",
    "    @x.deleter\n",
    "    def x(self):\n",
    "        self._x = -1\n",
    "foo = Foo(10)\n",
    "print(foo.x)\n",
    "foo.x = 10\n",
    "print(foo.x)\n",
    "del foo.x\n",
    "print(foo.x)"
   ]
  },
  {
   "cell_type": "code",
   "execution_count": 15,
   "metadata": {},
   "outputs": [
    {
     "name": "stdout",
     "output_type": "stream",
     "text": [
      "Nome: Livia\tIdade: 21\n"
     ]
    }
   ],
   "source": [
    "# Exemplo\n",
    "class Pessoa:\n",
    "    def __init__(self, nome, ano_nascimento):\n",
    "        self._nome = nome\n",
    "        self._ano_nascimento = ano_nascimento\n",
    "    @property\n",
    "    def nome(self):\n",
    "        return self._nome\n",
    "    @property\n",
    "    def idade(self):\n",
    "        _ano_atual = 2022\n",
    "        return _ano_atual - self._ano_nascimento\n",
    "    def get_nome(self):\n",
    "        return self._nome\n",
    "pessoa =  Pessoa('Livia',2001)\n",
    "print(f\"Nome: {pessoa._nome}\\tIdade: {pessoa.idade}\")"
   ]
  },
  {
   "cell_type": "code",
   "execution_count": null,
   "metadata": {},
   "outputs": [],
   "source": []
  }
 ],
 "metadata": {
  "kernelspec": {
   "display_name": "Python 3.10.6 64-bit",
   "language": "python",
   "name": "python3"
  },
  "language_info": {
   "codemirror_mode": {
    "name": "ipython",
    "version": 3
   },
   "file_extension": ".py",
   "mimetype": "text/x-python",
   "name": "python",
   "nbconvert_exporter": "python",
   "pygments_lexer": "ipython3",
   "version": "3.10.6"
  },
  "orig_nbformat": 4,
  "vscode": {
   "interpreter": {
    "hash": "916dbcbb3f70747c44a77c7bcd40155683ae19c65e1c03b4aa3499c5328201f1"
   }
  }
 },
 "nbformat": 4,
 "nbformat_minor": 2
}
